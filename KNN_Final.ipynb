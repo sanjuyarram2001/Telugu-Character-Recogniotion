{
 "cells": [
  {
   "cell_type": "code",
   "execution_count": 42,
   "metadata": {},
   "outputs": [],
   "source": [
    "import numpy as np\n",
    "import matplotlib.pyplot as plt\n",
    "import pandas as pd\n",
    "from sklearn import decomposition\n",
    "from sklearn.preprocessing import StandardScaler\n",
    "from sklearn.model_selection import train_test_split\n",
    "from sklearn.neighbors import KNeighborsClassifier  # FOR K=13 ,IT HAS ACCURACY AROUND 72.7488902980\n",
    "from sklearn import metrics"
   ]
  },
  {
   "cell_type": "code",
   "execution_count": 43,
   "metadata": {},
   "outputs": [
    {
     "data": {
      "text/html": [
       "<div>\n",
       "<style scoped>\n",
       "    .dataframe tbody tr th:only-of-type {\n",
       "        vertical-align: middle;\n",
       "    }\n",
       "\n",
       "    .dataframe tbody tr th {\n",
       "        vertical-align: top;\n",
       "    }\n",
       "\n",
       "    .dataframe thead th {\n",
       "        text-align: right;\n",
       "    }\n",
       "</style>\n",
       "<table border=\"1\" class=\"dataframe\">\n",
       "  <thead>\n",
       "    <tr style=\"text-align: right;\">\n",
       "      <th></th>\n",
       "      <th>pixel0</th>\n",
       "      <th>pixel1</th>\n",
       "      <th>pixel2</th>\n",
       "      <th>pixel3</th>\n",
       "      <th>pixel4</th>\n",
       "      <th>pixel5</th>\n",
       "      <th>pixel6</th>\n",
       "      <th>pixel7</th>\n",
       "      <th>pixel8</th>\n",
       "      <th>pixel9</th>\n",
       "      <th>...</th>\n",
       "      <th>pixel775</th>\n",
       "      <th>pixel776</th>\n",
       "      <th>pixel777</th>\n",
       "      <th>pixel778</th>\n",
       "      <th>pixel779</th>\n",
       "      <th>pixel780</th>\n",
       "      <th>pixel781</th>\n",
       "      <th>pixel782</th>\n",
       "      <th>pixel783</th>\n",
       "      <th>class</th>\n",
       "    </tr>\n",
       "  </thead>\n",
       "  <tbody>\n",
       "    <tr>\n",
       "      <th>0</th>\n",
       "      <td>255</td>\n",
       "      <td>255</td>\n",
       "      <td>254</td>\n",
       "      <td>255</td>\n",
       "      <td>255</td>\n",
       "      <td>255</td>\n",
       "      <td>252</td>\n",
       "      <td>255</td>\n",
       "      <td>255</td>\n",
       "      <td>255</td>\n",
       "      <td>...</td>\n",
       "      <td>255</td>\n",
       "      <td>255</td>\n",
       "      <td>255</td>\n",
       "      <td>255</td>\n",
       "      <td>255</td>\n",
       "      <td>255</td>\n",
       "      <td>255</td>\n",
       "      <td>255</td>\n",
       "      <td>255</td>\n",
       "      <td>1</td>\n",
       "    </tr>\n",
       "    <tr>\n",
       "      <th>1</th>\n",
       "      <td>255</td>\n",
       "      <td>255</td>\n",
       "      <td>254</td>\n",
       "      <td>255</td>\n",
       "      <td>255</td>\n",
       "      <td>254</td>\n",
       "      <td>255</td>\n",
       "      <td>255</td>\n",
       "      <td>255</td>\n",
       "      <td>255</td>\n",
       "      <td>...</td>\n",
       "      <td>255</td>\n",
       "      <td>255</td>\n",
       "      <td>255</td>\n",
       "      <td>255</td>\n",
       "      <td>255</td>\n",
       "      <td>255</td>\n",
       "      <td>255</td>\n",
       "      <td>255</td>\n",
       "      <td>255</td>\n",
       "      <td>1</td>\n",
       "    </tr>\n",
       "    <tr>\n",
       "      <th>2</th>\n",
       "      <td>255</td>\n",
       "      <td>254</td>\n",
       "      <td>255</td>\n",
       "      <td>255</td>\n",
       "      <td>255</td>\n",
       "      <td>255</td>\n",
       "      <td>254</td>\n",
       "      <td>255</td>\n",
       "      <td>254</td>\n",
       "      <td>255</td>\n",
       "      <td>...</td>\n",
       "      <td>255</td>\n",
       "      <td>255</td>\n",
       "      <td>255</td>\n",
       "      <td>255</td>\n",
       "      <td>255</td>\n",
       "      <td>255</td>\n",
       "      <td>255</td>\n",
       "      <td>255</td>\n",
       "      <td>255</td>\n",
       "      <td>1</td>\n",
       "    </tr>\n",
       "    <tr>\n",
       "      <th>3</th>\n",
       "      <td>254</td>\n",
       "      <td>255</td>\n",
       "      <td>255</td>\n",
       "      <td>255</td>\n",
       "      <td>254</td>\n",
       "      <td>255</td>\n",
       "      <td>255</td>\n",
       "      <td>255</td>\n",
       "      <td>254</td>\n",
       "      <td>255</td>\n",
       "      <td>...</td>\n",
       "      <td>255</td>\n",
       "      <td>255</td>\n",
       "      <td>255</td>\n",
       "      <td>255</td>\n",
       "      <td>255</td>\n",
       "      <td>255</td>\n",
       "      <td>255</td>\n",
       "      <td>255</td>\n",
       "      <td>255</td>\n",
       "      <td>1</td>\n",
       "    </tr>\n",
       "    <tr>\n",
       "      <th>4</th>\n",
       "      <td>254</td>\n",
       "      <td>255</td>\n",
       "      <td>255</td>\n",
       "      <td>253</td>\n",
       "      <td>255</td>\n",
       "      <td>255</td>\n",
       "      <td>255</td>\n",
       "      <td>254</td>\n",
       "      <td>255</td>\n",
       "      <td>255</td>\n",
       "      <td>...</td>\n",
       "      <td>255</td>\n",
       "      <td>255</td>\n",
       "      <td>255</td>\n",
       "      <td>255</td>\n",
       "      <td>255</td>\n",
       "      <td>255</td>\n",
       "      <td>255</td>\n",
       "      <td>255</td>\n",
       "      <td>255</td>\n",
       "      <td>1</td>\n",
       "    </tr>\n",
       "  </tbody>\n",
       "</table>\n",
       "<p>5 rows × 785 columns</p>\n",
       "</div>"
      ],
      "text/plain": [
       "   pixel0  pixel1  pixel2  pixel3  pixel4  pixel5  pixel6  pixel7  pixel8  \\\n",
       "0     255     255     254     255     255     255     252     255     255   \n",
       "1     255     255     254     255     255     254     255     255     255   \n",
       "2     255     254     255     255     255     255     254     255     254   \n",
       "3     254     255     255     255     254     255     255     255     254   \n",
       "4     254     255     255     253     255     255     255     254     255   \n",
       "\n",
       "   pixel9  ...  pixel775  pixel776  pixel777  pixel778  pixel779  pixel780  \\\n",
       "0     255  ...       255       255       255       255       255       255   \n",
       "1     255  ...       255       255       255       255       255       255   \n",
       "2     255  ...       255       255       255       255       255       255   \n",
       "3     255  ...       255       255       255       255       255       255   \n",
       "4     255  ...       255       255       255       255       255       255   \n",
       "\n",
       "   pixel781  pixel782  pixel783  class  \n",
       "0       255       255       255      1  \n",
       "1       255       255       255      1  \n",
       "2       255       255       255      1  \n",
       "3       255       255       255      1  \n",
       "4       255       255       255      1  \n",
       "\n",
       "[5 rows x 785 columns]"
      ]
     },
     "execution_count": 43,
     "metadata": {},
     "output_type": "execute_result"
    }
   ],
   "source": [
    "df=pd.read_csv(r\"C:\\Users\\prane\\Desktop\\2021_2022_2\\ML\\Assignment 1\\CSV_datasetsix_vowel_dataset_with_class.csv\")\n",
    "df.head()"
   ]
  },
  {
   "cell_type": "code",
   "execution_count": 44,
   "metadata": {},
   "outputs": [],
   "source": [
    "pixels=[]\n",
    "for i in range(784):\n",
    "    pixels.append('pixel'+str(i))\n",
    "\n",
    "features=pixels\n",
    "X=df.loc[:,features].values\n",
    "y=df.loc[:,'class'].values\n",
    "\n",
    "X_train,X_test, y_train, y_test = train_test_split(X,y,test_size=0.2,random_state=100)"
   ]
  },
  {
   "cell_type": "code",
   "execution_count": 45,
   "metadata": {},
   "outputs": [
    {
     "data": {
      "text/plain": [
       "(960, 784)"
      ]
     },
     "execution_count": 45,
     "metadata": {},
     "output_type": "execute_result"
    }
   ],
   "source": [
    "X_train.shape"
   ]
  },
  {
   "cell_type": "code",
   "execution_count": 46,
   "metadata": {},
   "outputs": [],
   "source": [
    "X_train=X_train/255\n",
    "X_test=X_test/255\n",
    "X_train=np.where(X_train>0.7,1,0)\n",
    "X_test=np.where(X_test>0.7,1,0)\n"
   ]
  },
  {
   "cell_type": "code",
   "execution_count": 48,
   "metadata": {},
   "outputs": [
    {
     "name": "stdout",
     "output_type": "stream",
     "text": [
      "[[1 1 1 ... 1 1 1]\n",
      " [1 1 1 ... 1 1 1]\n",
      " [1 1 1 ... 1 1 1]\n",
      " ...\n",
      " [1 1 1 ... 1 1 1]\n",
      " [1 1 1 ... 1 1 1]\n",
      " [1 1 1 ... 1 1 1]]\n"
     ]
    }
   ],
   "source": [
    "print(X_train)"
   ]
  },
  {
   "cell_type": "code",
   "execution_count": 57,
   "metadata": {},
   "outputs": [],
   "source": [
    "X_train_2D=X_train.reshape(X_train.shape[0],28,28)\n",
    "X_test_2D=X_test.reshape(X_test.shape[0],28,28)\n",
    "X_train_Zone=[]\n",
    "X_test_Zone=[]\n",
    "for i in range(X_train_2D.shape[0]):\n",
    "    image=X_train_2D[i]\n",
    "    y,x=image.shape\n",
    "    y=(int)(y/4)\n",
    "    x=(int)(x/4)\n",
    "    new_image=np.zeros((y,x))\n",
    "    for j in range(y):\n",
    "        for k in range(x):\n",
    "            new_image[j][k]=np.sum(image[4*j:4*j+4,4*k:4*k+4])\n",
    "    new_image_flatten=new_image.flatten()\n",
    "    X_train_Zone.append(new_image_flatten)\n",
    "\n",
    "for i in range(X_test_2D.shape[0]):\n",
    "    image=X_test_2D[i]\n",
    "    y,x=image.shape\n",
    "    y=(int)(y/4)\n",
    "    x=(int)(x/4)\n",
    "    new_image=np.zeros((y,x))\n",
    "    for j in range(y):\n",
    "        for k in range(x):\n",
    "            new_image[j][k]=np.sum(image[4*j:4*j+4,4*k:4*k+4])\n",
    "    new_image_flatten=new_image.flatten()\n",
    "    X_test_Zone.append(new_image_flatten)\n",
    "\n"
   ]
  },
  {
   "cell_type": "code",
   "execution_count": 74,
   "metadata": {},
   "outputs": [
    {
     "name": "stdout",
     "output_type": "stream",
     "text": [
      "[[1 1 1 1 1 1 1 1 1 1 1 1 1 1 1 1 1 1 1 1 1 1 1 1 1 1 1 1]\n",
      " [1 1 1 1 1 1 1 1 1 1 1 1 1 1 1 1 1 1 1 1 1 1 1 1 1 1 1 1]\n",
      " [1 1 1 1 1 1 1 1 1 1 1 1 1 1 1 1 1 1 1 1 1 1 1 1 1 1 1 1]\n",
      " [1 1 1 1 1 1 1 1 1 1 1 1 1 1 1 1 1 1 1 1 1 1 1 1 1 1 1 1]\n",
      " [1 1 1 1 1 1 1 1 1 1 1 1 1 1 1 1 1 1 1 1 1 1 1 1 1 1 1 1]\n",
      " [1 1 1 1 1 1 1 1 1 1 1 1 1 1 1 1 1 1 1 1 1 1 1 1 1 1 1 1]\n",
      " [1 1 1 1 1 1 1 1 1 1 0 0 0 0 1 1 1 1 1 1 1 1 1 1 1 1 1 1]\n",
      " [1 1 1 1 1 1 1 1 0 0 1 1 1 0 0 1 1 1 1 1 1 1 1 1 1 1 1 1]\n",
      " [1 1 1 1 1 1 1 0 1 1 1 1 1 1 1 1 1 1 1 1 1 1 1 1 1 1 1 1]\n",
      " [1 1 1 1 1 1 0 1 1 1 1 1 1 1 1 1 1 1 1 1 1 1 1 1 1 1 1 1]\n",
      " [1 1 1 1 1 1 0 1 1 1 1 1 1 1 1 1 1 1 1 1 1 1 1 1 1 1 1 1]\n",
      " [1 1 1 1 1 1 0 1 1 1 1 0 0 0 0 0 0 0 1 1 1 1 1 1 1 1 1 1]\n",
      " [1 1 1 1 1 1 0 1 1 1 1 1 1 1 1 1 1 1 1 1 1 1 1 1 1 1 1 1]\n",
      " [1 1 1 1 1 1 0 1 1 1 1 1 1 1 1 1 1 1 1 1 1 1 1 1 1 1 1 1]\n",
      " [1 1 1 1 1 1 0 1 1 1 1 1 1 1 1 1 0 1 1 1 1 1 1 1 1 1 1 1]\n",
      " [1 1 1 1 1 1 0 1 1 1 1 1 0 1 1 1 1 0 1 1 1 1 1 1 1 1 1 1]\n",
      " [1 1 1 1 1 1 0 1 1 1 1 1 0 1 1 1 1 1 0 1 1 1 1 1 1 1 1 1]\n",
      " [1 1 1 1 1 1 0 1 1 1 1 1 0 1 1 1 1 1 0 1 1 1 1 1 1 1 1 1]\n",
      " [1 1 1 1 1 1 1 1 1 1 1 1 0 1 1 1 1 1 0 1 1 1 1 1 1 1 1 1]\n",
      " [1 1 1 1 1 1 1 0 1 1 1 0 0 0 1 1 1 1 0 1 1 1 1 1 1 1 1 1]\n",
      " [1 1 1 1 1 1 1 1 0 0 0 0 1 1 0 0 0 0 0 1 1 1 1 1 1 1 1 1]\n",
      " [1 1 1 1 1 1 1 1 1 1 1 1 1 1 1 1 1 1 1 1 1 1 1 1 1 1 1 1]\n",
      " [1 1 1 1 1 1 1 1 1 1 1 1 1 1 1 1 1 1 1 1 1 1 1 1 1 1 1 1]\n",
      " [1 1 1 1 1 1 1 1 1 1 1 1 1 1 1 1 1 1 1 1 1 1 1 1 1 1 1 1]\n",
      " [1 1 1 1 1 1 1 1 1 1 1 1 1 1 1 1 1 1 1 1 1 1 1 1 1 1 1 1]\n",
      " [1 1 1 1 1 1 1 1 1 1 1 1 1 1 1 1 1 1 1 1 1 1 1 1 1 1 1 1]\n",
      " [1 1 1 1 1 1 1 1 1 1 1 1 1 1 1 1 1 1 1 1 1 1 1 1 1 1 1 1]\n",
      " [1 1 1 1 1 1 1 1 1 1 1 1 1 1 1 1 1 1 1 1 1 1 1 1 1 1 1 1]]\n",
      "[16. 16. 16. 16. 16. 16. 16. 16. 16. 12. 12. 16. 16. 16. 16. 12. 15. 12.\n",
      " 14. 16. 16. 16. 12. 16. 15. 14. 16. 16. 16. 13. 15. 11. 12. 16. 16. 16.\n",
      " 16. 12. 14. 13. 16. 16. 16. 16. 16. 16. 16. 16. 16.]\n"
     ]
    }
   ],
   "source": [
    "print(X_train_2D[940])\n",
    "print(X_train_Zone[940])"
   ]
  },
  {
   "cell_type": "code",
   "execution_count": 60,
   "metadata": {},
   "outputs": [
    {
     "data": {
      "text/plain": [
       "960"
      ]
     },
     "execution_count": 60,
     "metadata": {},
     "output_type": "execute_result"
    }
   ],
   "source": [
    "len(X_train_Zone)"
   ]
  },
  {
   "cell_type": "code",
   "execution_count": 61,
   "metadata": {},
   "outputs": [
    {
     "name": "stdout",
     "output_type": "stream",
     "text": [
      "[92.5, 88.75, 89.58333333333334, 91.25, 87.91666666666667, 89.16666666666667, 87.91666666666667, 89.16666666666667, 85.83333333333333, 87.5, 86.66666666666667, 87.5, 86.25, 85.83333333333333, 85.0, 85.83333333333333, 85.41666666666666, 87.5, 85.0, 86.66666666666667, 85.83333333333333, 86.66666666666667, 85.83333333333333, 85.83333333333333, 86.66666666666667, 85.83333333333333, 86.25, 85.83333333333333, 85.41666666666666, 83.33333333333334, 83.33333333333334, 84.16666666666667, 83.75, 83.75, 83.33333333333334, 82.91666666666667, 82.91666666666667, 82.91666666666667, 82.5, 83.33333333333334, 82.5, 81.66666666666667, 82.91666666666667, 82.91666666666667, 82.91666666666667, 82.5, 82.08333333333333, 81.66666666666667, 82.5]\n"
     ]
    }
   ],
   "source": [
    "k_values=range(1,50)\n",
    "accuracy=[]\n",
    "error=[]\n",
    "for k in k_values:\n",
    "    knn=KNeighborsClassifier(n_neighbors=k)\n",
    "    knn.fit(X_train_Zone,y_train)\n",
    "    y_pred=knn.predict(X_test_Zone)\n",
    "    accuracy.append(metrics.accuracy_score(y_test,y_pred))\n",
    "    error.append(np.mean(y_pred!=y_test))\n",
    "\n",
    "accuracy=[i*100 for i in accuracy]\n",
    "print(accuracy)"
   ]
  },
  {
   "cell_type": "code",
   "execution_count": 62,
   "metadata": {},
   "outputs": [
    {
     "data": {
      "image/png": "[encoded data removed]",
      "text/plain": [
       "<Figure size 864x432 with 1 Axes>"
      ]
     },
     "metadata": {
      "needs_background": "light"
     },
     "output_type": "display_data"
    }
   ],
   "source": [
    "plt.figure(figsize=(12,6))\n",
    "plt.plot(accuracy,color='red',linestyle=\"--\",marker=\"o\",markersize=5)\n",
    "plt.title(\"Accuacy Scores\")\n",
    "plt.xlabel('K value')\n",
    "plt.xticks=[i for i in range(1,26)]\n",
    "plt.ylabel('Accuracy')\n",
    "plt.show()"
   ]
  },
  {
   "cell_type": "code",
   "execution_count": 63,
   "metadata": {},
   "outputs": [
    {
     "data": {
      "text/plain": [
       "[7.5,\n",
       " 11.25,\n",
       " 10.416666666666668,\n",
       " 8.75,\n",
       " 12.083333333333334,\n",
       " 10.833333333333334,\n",
       " 12.083333333333334,\n",
       " 10.833333333333334,\n",
       " 14.166666666666666,\n",
       " 12.5,\n",
       " 13.333333333333334,\n",
       " 12.5,\n",
       " 13.750000000000002,\n",
       " 14.166666666666666,\n",
       " 15.0,\n",
       " 14.166666666666666,\n",
       " 14.583333333333334,\n",
       " 12.5,\n",
       " 15.0,\n",
       " 13.333333333333334,\n",
       " 14.166666666666666,\n",
       " 13.333333333333334,\n",
       " 14.166666666666666,\n",
       " 14.166666666666666,\n",
       " 13.333333333333334,\n",
       " 14.166666666666666,\n",
       " 13.750000000000002,\n",
       " 14.166666666666666,\n",
       " 14.583333333333334,\n",
       " 16.666666666666664,\n",
       " 16.666666666666664,\n",
       " 15.833333333333332,\n",
       " 16.25,\n",
       " 16.25,\n",
       " 16.666666666666664,\n",
       " 17.083333333333332,\n",
       " 17.083333333333332,\n",
       " 17.083333333333332,\n",
       " 17.5,\n",
       " 16.666666666666664,\n",
       " 17.5,\n",
       " 18.333333333333332,\n",
       " 17.083333333333332,\n",
       " 17.083333333333332,\n",
       " 17.083333333333332,\n",
       " 17.5,\n",
       " 17.916666666666668,\n",
       " 18.333333333333332,\n",
       " 17.5]"
      ]
     },
     "execution_count": 63,
     "metadata": {},
     "output_type": "execute_result"
    }
   ],
   "source": [
    "error=[i*100 for i in error]\n",
    "error"
   ]
  },
  {
   "cell_type": "code",
   "execution_count": 64,
   "metadata": {},
   "outputs": [
    {
     "data": {
      "image/png": "[encoded data removed]",
      "text/plain": [
       "<Figure size 864x432 with 1 Axes>"
      ]
     },
     "metadata": {
      "needs_background": "light"
     },
     "output_type": "display_data"
    }
   ],
   "source": [
    "plt.figure(figsize=(12, 6))  \n",
    "plt.plot(range(1, 50), error, color='lightsalmon', linestyle='dashed', marker='o',  \n",
    "         markerfacecolor='mediumblue', markersize=10);\n",
    "plt.title('Error Rate for K Values(1-40)')  \n",
    "plt.xlabel('K Value') ;\n",
    "plt.ylabel('Mean Error') ;"
   ]
  },
  {
   "cell_type": "code",
   "execution_count": 65,
   "metadata": {},
   "outputs": [
    {
     "name": "stdout",
     "output_type": "stream",
     "text": [
      "1\n",
      "92.5\n"
     ]
    }
   ],
   "source": [
    "max_acc=max(accuracy)\n",
    "max_acc_k=accuracy.index(max_acc)+1\n",
    "print(max_acc_k)\n",
    "print(max_acc)"
   ]
  }
 ],
 "metadata": {
  "interpreter": {
   "hash": "6ae121be47c97c0c069510300ddf1208e01f00c5474901e36bb5238e92bd8a36"
  },
  "kernelspec": {
   "display_name": "Python 3.9.7 ('base')",
   "language": "python",
   "name": "python3"
  },
  "language_info": {
   "codemirror_mode": {
    "name": "ipython",
    "version": 3
   },
   "file_extension": ".py",
   "mimetype": "text/x-python",
   "name": "python",
   "nbconvert_exporter": "python",
   "pygments_lexer": "ipython3",
   "version": "3.9.7"
  },
  "orig_nbformat": 4
 },
 "nbformat": 4,
 "nbformat_minor": 2
}
