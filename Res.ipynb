{
 "cells": [
  {
   "cell_type": "code",
   "execution_count": 1,
   "metadata": {},
   "outputs": [],
   "source": [
    "from numpy import mean\n",
    "from numpy import std\n",
    "import numpy as np\n",
    "from matplotlib import pyplot\n",
    "from sklearn.model_selection import KFold\n",
    "from keras.datasets import fashion_mnist\n",
    "from tensorflow.keras.utils import to_categorical\n",
    "from keras.models import Sequential\n",
    "from keras.layers import Conv2D,MaxPooling2D,Dense,Flatten,Dropout,BatchNormalization\n",
    "from tensorflow.keras.optimizers import SGD\n",
    "from sklearn.model_selection import train_test_split\n",
    "from sklearn.metrics import confusion_matrix, classification_report\n",
    "import itertools\n",
    "import pandas as pd\n",
    "from sklearn.utils import shuffle\n",
    "from tensorflow.keras.preprocessing.image import ImageDataGenerator\n",
    "from sklearn.preprocessing import LabelBinarizer\n",
    "from sklearn.metrics import classification_report\n",
    "import argparse\n",
    "import cv2\n",
    "def resize(df):\n",
    "\tdf=np.array(df,dtype='uint8')\n",
    "\tdf=[cv2.resize(image,(32,32)) for image in df]\n",
    "\tdf=np.array(df,dtype='float32')\n",
    "\tdf=df.reshape((df.shape[0],32,32,1))\n",
    "\treturn df\n",
    "\n",
    "def load_dataset():\n",
    "\tdf=pd.read_csv(r\"C:\\Users\\prane\\Desktop\\2021_2022_2\\ML\\Assignment 1\\CSV_datasetsix_vowel_dataset_with_class.csv\")\n",
    "\tdf=shuffle(df)\n",
    "\tpixels=[]\n",
    "\tfor i in range(784):\n",
    "\t\tpixels.append('pixel'+str(i))\n",
    "\tfeatures=pixels\n",
    "\tX=df.loc[:,features].values\n",
    "\ty=df.loc[:,'class'].values\n",
    "\tX_train,X_test, y_train, y_test = train_test_split(X,y,test_size=0.1,random_state=100)\n",
    "\ttrainX = X_train.reshape((X_train.shape[0], 28, 28, 1))\n",
    "\ttestX = X_test.reshape((X_test.shape[0], 28, 28, 1))\n",
    "\ttrainX=resize(trainX)\n",
    "\ttestX=resize(testX)\n",
    "\ty_train=y_train-1\n",
    "\ty_test=y_test-1\n",
    "\ttrainY = to_categorical(y_train)\n",
    "\ttestY = to_categorical(y_test)\n",
    "\ttrainX,validX,trainY,validY = train_test_split(trainX,trainY,test_size=0.1,random_state=100)\n",
    "\tvalidX=resize(validX)\n",
    "\treturn trainX, trainY, testX, testY, validX, validY"
   ]
  },
  {
   "cell_type": "code",
   "execution_count": 2,
   "metadata": {},
   "outputs": [],
   "source": [
    "EPOCHS = 50\n",
    "INIT_LR = 1e-1\n",
    "BS = 128"
   ]
  },
  {
   "cell_type": "code",
   "execution_count": 3,
   "metadata": {},
   "outputs": [],
   "source": [
    "def prep_pixels(train, test, val):\n",
    "\ttrain_norm = train / 255.0\n",
    "\ttest_norm = test / 255.0\n",
    "\tval_norm = val / 255.0\n",
    "\treturn train_norm, test_norm, val_norm\n",
    "\n",
    "class_labels = ['1','2','3','4','5','6']\n",
    "trainX, trainY, testX, testY, validX, validY = load_dataset()\n",
    "trainX, testX, validX = prep_pixels(trainX, testX, validX)"
   ]
  },
  {
   "cell_type": "code",
   "execution_count": 4,
   "metadata": {},
   "outputs": [],
   "source": [
    "aug = ImageDataGenerator(\n",
    "\trotation_range=10,\n",
    "\tzoom_range=0.05,\n",
    "\twidth_shift_range=0.1,\n",
    "\theight_shift_range=0.1,\n",
    "\tshear_range=0.15,\n",
    "\thorizontal_flip=False,\n",
    "\tfill_mode=\"nearest\")"
   ]
  },
  {
   "cell_type": "code",
   "execution_count": 5,
   "metadata": {},
   "outputs": [
    {
     "name": "stderr",
     "output_type": "stream",
     "text": [
      "C:\\Users\\prane\\anaconda3\\lib\\site-packages\\keras\\optimizer_v2\\gradient_descent.py:102: UserWarning: The `lr` argument is deprecated, use `learning_rate` instead.\n",
      "  super(SGD, self).__init__(name, **kwargs)\n"
     ]
    }
   ],
   "source": [
    "from Resnet import ResNet\n",
    "opt = SGD(lr=INIT_LR, decay=INIT_LR / EPOCHS)\n",
    "model = ResNet.build(32, 32, 1, 6, (3, 3, 3),\n",
    "\t(64, 64, 128, 256), reg=0.0005)\n",
    "model.compile(loss=\"categorical_crossentropy\", optimizer=opt,\n",
    "\tmetrics=[\"accuracy\"])"
   ]
  },
  {
   "cell_type": "code",
   "execution_count": 6,
   "metadata": {},
   "outputs": [
    {
     "name": "stdout",
     "output_type": "stream",
     "text": [
      "Epoch 1/50\n",
      "7/7 [==============================] - 12s 1s/step - loss: 1.9512 - accuracy: 0.2050 - val_loss: 1.9498 - val_accuracy: 0.1574\n",
      "Epoch 2/50\n",
      "7/7 [==============================] - 8s 1s/step - loss: 1.8269 - accuracy: 0.3578 - val_loss: 1.9911 - val_accuracy: 0.1574\n",
      "Epoch 3/50\n",
      "7/7 [==============================] - 9s 1s/step - loss: 1.7062 - accuracy: 0.4598 - val_loss: 2.0893 - val_accuracy: 0.1574\n",
      "Epoch 4/50\n",
      "7/7 [==============================] - 8s 1s/step - loss: 1.5644 - accuracy: 0.5972 - val_loss: 2.1161 - val_accuracy: 0.1481\n",
      "Epoch 5/50\n",
      "7/7 [==============================] - 8s 1s/step - loss: 1.3909 - accuracy: 0.6884 - val_loss: 1.8945 - val_accuracy: 0.1759\n",
      "Epoch 6/50\n",
      "7/7 [==============================] - 8s 1s/step - loss: 1.2458 - accuracy: 0.7145 - val_loss: 1.4520 - val_accuracy: 0.6019\n",
      "Epoch 7/50\n",
      "7/7 [==============================] - 8s 1s/step - loss: 1.1430 - accuracy: 0.7725 - val_loss: 1.2088 - val_accuracy: 0.7222\n",
      "Epoch 8/50\n",
      "7/7 [==============================] - 8s 1s/step - loss: 1.0356 - accuracy: 0.8223 - val_loss: 1.4476 - val_accuracy: 0.5463\n",
      "Epoch 9/50\n",
      "7/7 [==============================] - 8s 1s/step - loss: 0.9418 - accuracy: 0.8306 - val_loss: 1.0760 - val_accuracy: 0.8241\n",
      "Epoch 10/50\n",
      "7/7 [==============================] - 8s 1s/step - loss: 0.8609 - accuracy: 0.8709 - val_loss: 2.6300 - val_accuracy: 0.2593\n",
      "Epoch 11/50\n",
      "7/7 [==============================] - 8s 1s/step - loss: 0.7850 - accuracy: 0.8851 - val_loss: 0.9680 - val_accuracy: 0.8519\n",
      "Epoch 12/50\n",
      "7/7 [==============================] - 8s 1s/step - loss: 0.7108 - accuracy: 0.9100 - val_loss: 1.1361 - val_accuracy: 0.6481\n",
      "Epoch 13/50\n",
      "7/7 [==============================] - 8s 1s/step - loss: 0.6619 - accuracy: 0.9052 - val_loss: 0.6482 - val_accuracy: 0.9537\n",
      "Epoch 14/50\n",
      "7/7 [==============================] - 9s 1s/step - loss: 0.5820 - accuracy: 0.9475 - val_loss: 0.6713 - val_accuracy: 0.9537\n",
      "Epoch 15/50\n",
      "7/7 [==============================] - 8s 1s/step - loss: 0.5302 - accuracy: 0.9479 - val_loss: 0.5234 - val_accuracy: 1.0000\n",
      "Epoch 16/50\n",
      "7/7 [==============================] - 8s 1s/step - loss: 0.4884 - accuracy: 0.9514 - val_loss: 0.5027 - val_accuracy: 0.9630\n",
      "Epoch 17/50\n",
      "7/7 [==============================] - 8s 1s/step - loss: 0.4461 - accuracy: 0.9692 - val_loss: 0.6308 - val_accuracy: 0.8981\n",
      "Epoch 18/50\n",
      "7/7 [==============================] - 8s 1s/step - loss: 0.4147 - accuracy: 0.9739 - val_loss: 0.4219 - val_accuracy: 0.9444\n",
      "Epoch 19/50\n",
      "7/7 [==============================] - 8s 1s/step - loss: 0.3706 - accuracy: 0.9799 - val_loss: 0.3907 - val_accuracy: 0.9907\n",
      "Epoch 20/50\n",
      "7/7 [==============================] - 8s 1s/step - loss: 0.3759 - accuracy: 0.9716 - val_loss: 0.3727 - val_accuracy: 0.9907\n",
      "Epoch 21/50\n",
      "7/7 [==============================] - 8s 1s/step - loss: 0.3447 - accuracy: 0.9775 - val_loss: 0.4051 - val_accuracy: 0.9630\n",
      "Epoch 22/50\n",
      "7/7 [==============================] - 8s 1s/step - loss: 0.3088 - accuracy: 0.9822 - val_loss: 0.4038 - val_accuracy: 0.9537\n",
      "Epoch 23/50\n",
      "7/7 [==============================] - 8s 1s/step - loss: 0.3005 - accuracy: 0.9905 - val_loss: 0.3185 - val_accuracy: 0.9907\n",
      "Epoch 24/50\n",
      "7/7 [==============================] - 8s 1s/step - loss: 0.2879 - accuracy: 0.9846 - val_loss: 0.3168 - val_accuracy: 0.9722\n",
      "Epoch 25/50\n",
      "7/7 [==============================] - 8s 1s/step - loss: 0.2761 - accuracy: 0.9929 - val_loss: 0.6527 - val_accuracy: 0.8333\n",
      "Epoch 26/50\n",
      "7/7 [==============================] - 8s 1s/step - loss: 0.2758 - accuracy: 0.9882 - val_loss: 0.7141 - val_accuracy: 0.8426\n",
      "Epoch 27/50\n",
      "7/7 [==============================] - 8s 1s/step - loss: 0.2778 - accuracy: 0.9917 - val_loss: 0.3156 - val_accuracy: 0.9907\n",
      "Epoch 28/50\n",
      "7/7 [==============================] - 8s 1s/step - loss: 0.2565 - accuracy: 0.9929 - val_loss: 0.2919 - val_accuracy: 0.9907\n",
      "Epoch 29/50\n",
      "7/7 [==============================] - 8s 1s/step - loss: 0.2509 - accuracy: 0.9917 - val_loss: 0.2527 - val_accuracy: 1.0000\n",
      "Epoch 30/50\n",
      "7/7 [==============================] - 8s 1s/step - loss: 0.2484 - accuracy: 0.9941 - val_loss: 0.2478 - val_accuracy: 1.0000\n",
      "Epoch 31/50\n",
      "7/7 [==============================] - 8s 1s/step - loss: 0.2449 - accuracy: 0.9882 - val_loss: 0.5495 - val_accuracy: 0.8704\n",
      "Epoch 32/50\n",
      "7/7 [==============================] - 9s 1s/step - loss: 0.2355 - accuracy: 0.9978 - val_loss: 0.2515 - val_accuracy: 1.0000\n",
      "Epoch 33/50\n",
      "7/7 [==============================] - 9s 1s/step - loss: 0.2327 - accuracy: 0.9976 - val_loss: 0.2462 - val_accuracy: 1.0000\n",
      "Epoch 34/50\n",
      "7/7 [==============================] - 8s 1s/step - loss: 0.2305 - accuracy: 0.9976 - val_loss: 0.2572 - val_accuracy: 1.0000\n",
      "Epoch 35/50\n",
      "7/7 [==============================] - 8s 1s/step - loss: 0.2235 - accuracy: 0.9976 - val_loss: 0.2423 - val_accuracy: 1.0000\n",
      "Epoch 36/50\n",
      "7/7 [==============================] - 8s 1s/step - loss: 0.2347 - accuracy: 0.9929 - val_loss: 0.3207 - val_accuracy: 0.9537\n",
      "Epoch 37/50\n",
      "7/7 [==============================] - 8s 1s/step - loss: 0.2324 - accuracy: 0.9929 - val_loss: 0.2118 - val_accuracy: 1.0000\n",
      "Epoch 38/50\n",
      "7/7 [==============================] - 9s 1s/step - loss: 0.2215 - accuracy: 0.9964 - val_loss: 0.2246 - val_accuracy: 1.0000\n",
      "Epoch 39/50\n",
      "7/7 [==============================] - 9s 1s/step - loss: 0.2226 - accuracy: 0.9953 - val_loss: 0.2375 - val_accuracy: 0.9907\n",
      "Epoch 40/50\n",
      "7/7 [==============================] - 9s 1s/step - loss: 0.2193 - accuracy: 0.9953 - val_loss: 0.2469 - val_accuracy: 1.0000\n",
      "Epoch 41/50\n",
      "7/7 [==============================] - 9s 1s/step - loss: 0.2172 - accuracy: 0.9964 - val_loss: 0.2553 - val_accuracy: 1.0000\n",
      "Epoch 42/50\n",
      "7/7 [==============================] - 9s 1s/step - loss: 0.2099 - accuracy: 0.9988 - val_loss: 0.2155 - val_accuracy: 1.0000\n",
      "Epoch 43/50\n",
      "7/7 [==============================] - 8s 1s/step - loss: 0.2133 - accuracy: 0.9964 - val_loss: 0.2202 - val_accuracy: 1.0000\n",
      "Epoch 44/50\n",
      "7/7 [==============================] - 8s 1s/step - loss: 0.2094 - accuracy: 1.0000 - val_loss: 0.2239 - val_accuracy: 1.0000\n",
      "Epoch 45/50\n",
      "7/7 [==============================] - 9s 1s/step - loss: 0.2073 - accuracy: 1.0000 - val_loss: 0.2247 - val_accuracy: 1.0000\n",
      "Epoch 46/50\n",
      "7/7 [==============================] - 9s 1s/step - loss: 0.2060 - accuracy: 1.0000 - val_loss: 0.2098 - val_accuracy: 1.0000\n",
      "Epoch 47/50\n",
      "7/7 [==============================] - 9s 1s/step - loss: 0.2054 - accuracy: 1.0000 - val_loss: 0.2245 - val_accuracy: 1.0000\n",
      "Epoch 48/50\n",
      "7/7 [==============================] - 9s 1s/step - loss: 0.2063 - accuracy: 1.0000 - val_loss: 0.2128 - val_accuracy: 1.0000\n",
      "Epoch 49/50\n",
      "7/7 [==============================] - 9s 1s/step - loss: 0.2081 - accuracy: 0.9989 - val_loss: 0.2248 - val_accuracy: 0.9907\n",
      "Epoch 50/50\n",
      "7/7 [==============================] - 9s 1s/step - loss: 0.2072 - accuracy: 0.9978 - val_loss: 0.2134 - val_accuracy: 1.0000\n"
     ]
    }
   ],
   "source": [
    "classWeight={}\n",
    "H = model.fit(\n",
    "\taug.flow(trainX, trainY, batch_size=BS),\n",
    "\tvalidation_data=(validX, validY),\n",
    "\tsteps_per_epoch=len(trainX) // BS,\n",
    "\tepochs=EPOCHS,\n",
    "\tclass_weight=classWeight,\n",
    "\tverbose=1)"
   ]
  },
  {
   "cell_type": "code",
   "execution_count": 7,
   "metadata": {},
   "outputs": [
    {
     "name": "stdout",
     "output_type": "stream",
     "text": [
      "Test Accuracy: 100.0 %\n"
     ]
    }
   ],
   "source": [
    "_, acc = model.evaluate(testX, testY, verbose=0)\n",
    "y_pred = model.predict(testX)\n",
    "print('Test Accuracy:', (acc * 100), '%')"
   ]
  },
  {
   "cell_type": "code",
   "execution_count": 8,
   "metadata": {},
   "outputs": [],
   "source": [
    "def plot_metrics(history):\n",
    "\t\tpyplot.subplot(211)\n",
    "\t\tpyplot.title('Cross Entropy Loss')\n",
    "\t\tpyplot.plot(history.history['loss'], color='blue', label='train')\n",
    "\t\tpyplot.plot(history.history['val_loss'], color='red', label='validation')\n",
    "\t\t# plot accuracy\n",
    "\t\tpyplot.subplot(212)\n",
    "\t\tpyplot.title('Classification Accuracy')\n",
    "\t\tpyplot.plot(history.history['accuracy'], color='blue', label='train')\n",
    "\t\tpyplot.plot(history.history['val_accuracy'], color='red', label='validation')\n",
    "\t\tpyplot.tight_layout()\n",
    "\t\tpyplot.legend()\n",
    "\t\tpyplot.show()\n",
    "\t\n",
    "def plot_confusion_matrix(cm, classes, normalize=False, title='Confusion matrix', cmap=pyplot.cm.Blues):\n",
    "\t\tpyplot.figure(figsize = (10,7))\n",
    "\t\tpyplot.imshow(cm, interpolation='nearest', cmap=cmap)\n",
    "\t\tpyplot.title(title)\n",
    "\t\tpyplot.colorbar()\n",
    "\t\ttick_marks = np.arange(len(classes))\n",
    "\t\tpyplot.xticks(tick_marks, classes, rotation=90)\n",
    "\t\tpyplot.yticks(tick_marks, classes)\n",
    "\t\tif normalize:\n",
    "\t\t\tcm = cm.astype('float') / cm.sum(axis=1)[:, np.newaxis]\n",
    "\t\tthresh = cm.max() / 2.\n",
    "\t\tfor i, j in itertools.product(range(cm.shape[0]), range(cm.shape[1])):\n",
    "\t\t\tpyplot.text(j, i, cm[i, j],\n",
    "                 horizontalalignment=\"center\",\n",
    "                 color=\"white\" if cm[i, j] > thresh else \"black\")\n",
    "\t\tpyplot.tight_layout()\n",
    "\t\tpyplot.ylabel('True label')\n",
    "\t\tpyplot.xlabel('Predicted label')"
   ]
  },
  {
   "cell_type": "code",
   "execution_count": 9,
   "metadata": {},
   "outputs": [
    {
     "data": {
      "image/png": "[encoded data removed]",
      "text/plain": [
       "<Figure size 432x288 with 2 Axes>"
      ]
     },
     "metadata": {
      "needs_background": "light"
     },
     "output_type": "display_data"
    }
   ],
   "source": [
    "y_pred_classes = np.argmax(y_pred,axis = 1)\n",
    "testY_classes = np.argmax(testY,axis = 1) \n",
    "confmat = confusion_matrix(testY_classes, y_pred_classes)\n",
    "plot_metrics(H)"
   ]
  },
  {
   "cell_type": "code",
   "execution_count": 10,
   "metadata": {},
   "outputs": [
    {
     "data": {
      "image/png": "[encoded data removed]",
      "text/plain": [
       "<Figure size 720x504 with 2 Axes>"
      ]
     },
     "metadata": {
      "needs_background": "light"
     },
     "output_type": "display_data"
    }
   ],
   "source": [
    "plot_confusion_matrix(confmat, classes = class_labels)"
   ]
  }
 ],
 "metadata": {
  "interpreter": {
   "hash": "6ae121be47c97c0c069510300ddf1208e01f00c5474901e36bb5238e92bd8a36"
  },
  "kernelspec": {
   "display_name": "Python 3.9.7 ('base')",
   "language": "python",
   "name": "python3"
  },
  "language_info": {
   "codemirror_mode": {
    "name": "ipython",
    "version": 3
   },
   "file_extension": ".py",
   "mimetype": "text/x-python",
   "name": "python",
   "nbconvert_exporter": "python",
   "pygments_lexer": "ipython3",
   "version": "3.9.7"
  },
  "orig_nbformat": 4
 },
 "nbformat": 4,
 "nbformat_minor": 2
}
