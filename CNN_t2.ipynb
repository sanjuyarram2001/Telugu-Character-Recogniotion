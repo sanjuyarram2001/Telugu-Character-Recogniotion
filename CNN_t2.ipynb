{
 "cells": [
  {
   "cell_type": "code",
   "execution_count": 4,
   "metadata": {},
   "outputs": [
    {
     "name": "stdout",
     "output_type": "stream",
     "text": [
      "Epoch 1/30\n",
      "4/4 [==============================] - 3s 631ms/step - loss: 1.5730 - accuracy: 0.3889 - val_loss: 1.7909 - val_accuracy: 0.1756\n",
      "Epoch 2/30\n",
      "4/4 [==============================] - 2s 570ms/step - loss: 0.4849 - accuracy: 0.8911 - val_loss: 1.7907 - val_accuracy: 0.2022\n",
      "Epoch 3/30\n",
      "4/4 [==============================] - 2s 541ms/step - loss: 0.1908 - accuracy: 0.9511 - val_loss: 1.7914 - val_accuracy: 0.2244\n",
      "Epoch 4/30\n",
      "4/4 [==============================] - 2s 532ms/step - loss: 0.0658 - accuracy: 0.9867 - val_loss: 1.7931 - val_accuracy: 0.1978\n",
      "Epoch 5/30\n",
      "4/4 [==============================] - 2s 540ms/step - loss: 0.0234 - accuracy: 0.9978 - val_loss: 1.7965 - val_accuracy: 0.1756\n",
      "Epoch 6/30\n",
      "4/4 [==============================] - 2s 543ms/step - loss: 0.0058 - accuracy: 1.0000 - val_loss: 1.8020 - val_accuracy: 0.1756\n",
      "Epoch 7/30\n",
      "4/4 [==============================] - 2s 562ms/step - loss: 0.0027 - accuracy: 1.0000 - val_loss: 1.8090 - val_accuracy: 0.1756\n",
      "Epoch 8/30\n",
      "4/4 [==============================] - 2s 550ms/step - loss: 0.0022 - accuracy: 1.0000 - val_loss: 1.8174 - val_accuracy: 0.1756\n",
      "Epoch 9/30\n",
      "4/4 [==============================] - 2s 561ms/step - loss: 0.0014 - accuracy: 1.0000 - val_loss: 1.8270 - val_accuracy: 0.1756\n",
      "Epoch 10/30\n",
      "4/4 [==============================] - 2s 552ms/step - loss: 7.5430e-04 - accuracy: 1.0000 - val_loss: 1.8377 - val_accuracy: 0.1756\n",
      "Epoch 11/30\n",
      "4/4 [==============================] - 2s 576ms/step - loss: 5.9114e-04 - accuracy: 1.0000 - val_loss: 1.8491 - val_accuracy: 0.1756\n",
      "Epoch 12/30\n",
      "4/4 [==============================] - 2s 606ms/step - loss: 5.5119e-04 - accuracy: 1.0000 - val_loss: 1.8609 - val_accuracy: 0.1756\n",
      "Epoch 13/30\n",
      "4/4 [==============================] - 2s 589ms/step - loss: 3.5676e-04 - accuracy: 1.0000 - val_loss: 1.8734 - val_accuracy: 0.1756\n",
      "Epoch 14/30\n",
      "4/4 [==============================] - 2s 598ms/step - loss: 3.0333e-04 - accuracy: 1.0000 - val_loss: 1.8862 - val_accuracy: 0.1756\n",
      "Epoch 15/30\n",
      "4/4 [==============================] - 2s 580ms/step - loss: 2.3553e-04 - accuracy: 1.0000 - val_loss: 1.8994 - val_accuracy: 0.1756\n",
      "Epoch 16/30\n",
      "4/4 [==============================] - 2s 563ms/step - loss: 2.1970e-04 - accuracy: 1.0000 - val_loss: 1.9129 - val_accuracy: 0.1756\n",
      "Epoch 17/30\n",
      "4/4 [==============================] - 2s 584ms/step - loss: 2.0579e-04 - accuracy: 1.0000 - val_loss: 1.9269 - val_accuracy: 0.1756\n",
      "Epoch 18/30\n",
      "4/4 [==============================] - 2s 599ms/step - loss: 1.9029e-04 - accuracy: 1.0000 - val_loss: 1.9416 - val_accuracy: 0.1756\n",
      "Epoch 19/30\n",
      "4/4 [==============================] - 2s 591ms/step - loss: 1.7429e-04 - accuracy: 1.0000 - val_loss: 1.9566 - val_accuracy: 0.1756\n",
      "Epoch 20/30\n",
      "4/4 [==============================] - 2s 585ms/step - loss: 2.0449e-04 - accuracy: 1.0000 - val_loss: 1.9720 - val_accuracy: 0.1756\n",
      "Epoch 21/30\n",
      "4/4 [==============================] - 2s 582ms/step - loss: 2.0305e-04 - accuracy: 1.0000 - val_loss: 1.9881 - val_accuracy: 0.1756\n",
      "Epoch 22/30\n",
      "4/4 [==============================] - 2s 598ms/step - loss: 1.7856e-04 - accuracy: 1.0000 - val_loss: 2.0044 - val_accuracy: 0.1756\n",
      "Epoch 23/30\n",
      "4/4 [==============================] - 2s 604ms/step - loss: 1.9606e-04 - accuracy: 1.0000 - val_loss: 2.0209 - val_accuracy: 0.1756\n",
      "Epoch 24/30\n",
      "4/4 [==============================] - 2s 585ms/step - loss: 1.4640e-04 - accuracy: 1.0000 - val_loss: 2.0376 - val_accuracy: 0.1756\n",
      "Epoch 25/30\n",
      "4/4 [==============================] - 2s 628ms/step - loss: 1.7066e-04 - accuracy: 1.0000 - val_loss: 2.0545 - val_accuracy: 0.1756\n",
      "Epoch 26/30\n",
      "4/4 [==============================] - 2s 584ms/step - loss: 1.3345e-04 - accuracy: 1.0000 - val_loss: 2.0714 - val_accuracy: 0.1756\n",
      "Epoch 27/30\n",
      "4/4 [==============================] - 2s 629ms/step - loss: 1.3622e-04 - accuracy: 1.0000 - val_loss: 2.0885 - val_accuracy: 0.1756\n",
      "Epoch 28/30\n",
      "4/4 [==============================] - 2s 588ms/step - loss: 1.3826e-04 - accuracy: 1.0000 - val_loss: 2.1060 - val_accuracy: 0.1756\n",
      "Epoch 29/30\n",
      "4/4 [==============================] - 2s 604ms/step - loss: 1.3494e-04 - accuracy: 1.0000 - val_loss: 2.1234 - val_accuracy: 0.1756\n",
      "Epoch 30/30\n",
      "4/4 [==============================] - 2s 611ms/step - loss: 1.3189e-04 - accuracy: 1.0000 - val_loss: 2.1409 - val_accuracy: 0.1756\n",
      "Test Accuracy: 12.666666507720947 %\n"
     ]
    },
    {
     "data": {
      "image/png": "[encoded data removed]",
      "text/plain": [
       "<Figure size 432x288 with 2 Axes>"
      ]
     },
     "metadata": {
      "needs_background": "light"
     },
     "output_type": "display_data"
    },
    {
     "name": "stderr",
     "output_type": "stream",
     "text": [
      "C:\\Users\\prane\\anaconda3\\lib\\site-packages\\sklearn\\metrics\\_classification.py:1318: UndefinedMetricWarning: Precision and F-score are ill-defined and being set to 0.0 in labels with no predicted samples. Use `zero_division` parameter to control this behavior.\n",
      "  _warn_prf(average, modifier, msg_start, len(result))\n",
      "C:\\Users\\prane\\anaconda3\\lib\\site-packages\\sklearn\\metrics\\_classification.py:1318: UndefinedMetricWarning: Precision and F-score are ill-defined and being set to 0.0 in labels with no predicted samples. Use `zero_division` parameter to control this behavior.\n",
      "  _warn_prf(average, modifier, msg_start, len(result))\n",
      "C:\\Users\\prane\\anaconda3\\lib\\site-packages\\sklearn\\metrics\\_classification.py:1318: UndefinedMetricWarning: Precision and F-score are ill-defined and being set to 0.0 in labels with no predicted samples. Use `zero_division` parameter to control this behavior.\n",
      "  _warn_prf(average, modifier, msg_start, len(result))\n"
     ]
    },
    {
     "name": "stdout",
     "output_type": "stream",
     "text": [
      "              precision    recall  f1-score   support\n",
      "\n",
      "           1       0.13      1.00      0.22        38\n",
      "           2       0.00      0.00      0.00        56\n",
      "           3       0.00      0.00      0.00        41\n",
      "           4       0.00      0.00      0.00        59\n",
      "           5       0.00      0.00      0.00        54\n",
      "           6       0.00      0.00      0.00        52\n",
      "\n",
      "    accuracy                           0.13       300\n",
      "   macro avg       0.02      0.17      0.04       300\n",
      "weighted avg       0.02      0.13      0.03       300\n",
      "\n"
     ]
    },
    {
     "data": {
      "image/png": "[encoded data removed]",
      "text/plain": [
       "<Figure size 720x504 with 2 Axes>"
      ]
     },
     "metadata": {
      "needs_background": "light"
     },
     "output_type": "display_data"
    }
   ],
   "source": [
    "from numpy import mean\n",
    "from numpy import std\n",
    "import numpy as np\n",
    "from matplotlib import pyplot\n",
    "from sklearn.model_selection import KFold\n",
    "from keras.datasets import fashion_mnist\n",
    "from tensorflow.keras.utils import to_categorical\n",
    "from keras.models import Sequential\n",
    "from keras.layers import Conv2D,MaxPooling2D,Dense,Flatten,Dropout,BatchNormalization\n",
    "from tensorflow.keras.optimizers import SGD\n",
    "from sklearn.model_selection import train_test_split\n",
    "from sklearn.metrics import confusion_matrix, classification_report\n",
    "import itertools\n",
    "import pandas as pd\n",
    "from sklearn.utils import shuffle\n",
    "def load_dataset():\n",
    "\tdf=pd.read_csv(r\"C:\\Users\\prane\\Desktop\\2021_2022_2\\ML\\Assignment 1\\CSV_datasetsix_vowel_dataset_with_class.csv\")\n",
    "\tdf=shuffle(df)\n",
    "\tpixels=[]\n",
    "\tfor i in range(784):\n",
    "\t\tpixels.append('pixel'+str(i))\n",
    "\tfeatures=pixels\n",
    "\tX=df.loc[:,features].values\n",
    "\ty=df.loc[:,'class'].values\n",
    "\n",
    "\tX_train,X_test, y_train, y_test = train_test_split(X,y,test_size=0.25,random_state=100)\n",
    "\ttrainX = X_train.reshape((X_train.shape[0], 28, 28, 1))\n",
    "\ttestX = X_test.reshape((X_test.shape[0], 28, 28, 1))\n",
    "\ty_train=y_train-1\n",
    "\ty_test=y_test-1\n",
    "\ttrainY = to_categorical(y_train)\n",
    "\ttestY = to_categorical(y_test)\n",
    "\ttrainX,validX,trainY,validY = train_test_split(trainX,trainY,test_size=0.5,random_state=100)\n",
    "\treturn trainX, trainY, testX, testY, validX, validY\n",
    "\n",
    "# normalize\n",
    "def prep_pixels(train, test, val):\n",
    "\ttrain_norm = train / 255.0\n",
    "\ttest_norm = test / 255.0\n",
    "\tval_norm = val / 255.0\n",
    "\treturn train_norm, test_norm, val_norm\n",
    "\n",
    "def define_model():\n",
    "\tmodel = Sequential()\n",
    "\tmodel.add(Conv2D(64, kernel_size=(3, 3), activation='relu', padding='same', input_shape=(28,28,1)))\n",
    "\tmodel.add(BatchNormalization())\n",
    "\tmodel.add(Conv2D(64, kernel_size=(3, 3), activation='relu'))\n",
    "\tmodel.add(BatchNormalization())\n",
    "\tmodel.add(MaxPooling2D(pool_size=(2, 2)))\n",
    "\n",
    "\tmodel.add(Conv2D(128, kernel_size=(3, 3), activation='relu', padding='same'))\n",
    "\tmodel.add(BatchNormalization())\n",
    "\tmodel.add(Conv2D(128, kernel_size=(3, 3), activation='relu'))\n",
    "\tmodel.add(BatchNormalization())\n",
    "\tmodel.add(MaxPooling2D(pool_size=(2, 2)))\n",
    "        \n",
    "\tmodel.add(Conv2D(256, kernel_size=(3, 3), activation='relu', padding='same'))\n",
    "\tmodel.add(BatchNormalization())\n",
    "\tmodel.add(Conv2D(256, kernel_size=(3, 3), activation='relu'))\n",
    "\tmodel.add(BatchNormalization())\n",
    "\tmodel.add(MaxPooling2D(pool_size=(2, 2)))   \n",
    "      \n",
    "\tmodel.add(Flatten())      \n",
    "\tmodel.add(Dense(1024, activation='relu'))     \n",
    "\tmodel.add(Dense(512, activation='relu'))\n",
    "\tmodel.add(Dense(6, activation='softmax'))\n",
    "\t\n",
    "\toptim = SGD(learning_rate=0.01, momentum=0.9)\n",
    "\tmodel.compile(optimizer=optim, loss='categorical_crossentropy', metrics=['accuracy'])\n",
    "\treturn model\n",
    " \n",
    "\n",
    "def evaluate_model(trainX, trainY, valX, valY, testX, testY):\n",
    " scores, histories = list(), list()\n",
    " model = define_model()\n",
    " history = model.fit(trainX, trainY, epochs=30, batch_size=128, validation_data=(valX, valY))\n",
    " _, acc = model.evaluate(testX, testY, verbose=0)\n",
    " y_pred = model.predict(testX)\n",
    " print('Test Accuracy:', (acc * 100), '%')\n",
    " return history, y_pred\n",
    " \n",
    "# plot metrics\n",
    "def plot_metrics(history):\n",
    "\t\tpyplot.subplot(211)\n",
    "\t\tpyplot.title('Cross Entropy Loss')\n",
    "\t\tpyplot.plot(history.history['loss'], color='blue', label='train')\n",
    "\t\tpyplot.plot(history.history['val_loss'], color='red', label='validation')\n",
    "\t\t# plot accuracy\n",
    "\t\tpyplot.subplot(212)\n",
    "\t\tpyplot.title('Classification Accuracy')\n",
    "\t\tpyplot.plot(history.history['accuracy'], color='blue', label='train')\n",
    "\t\tpyplot.plot(history.history['val_accuracy'], color='red', label='validation')\n",
    "\t\tpyplot.tight_layout()\n",
    "\t\tpyplot.legend()\n",
    "\t\tpyplot.show()\n",
    "\t\n",
    "def plot_confusion_matrix(cm, classes, normalize=False, title='Confusion matrix', cmap=pyplot.cm.Blues):\n",
    "\t\tpyplot.figure(figsize = (10,7))\n",
    "\t\tpyplot.imshow(cm, interpolation='nearest', cmap=cmap)\n",
    "\t\tpyplot.title(title)\n",
    "\t\tpyplot.colorbar()\n",
    "\t\ttick_marks = np.arange(len(classes))\n",
    "\t\tpyplot.xticks(tick_marks, classes, rotation=90)\n",
    "\t\tpyplot.yticks(tick_marks, classes)\n",
    "\t\tif normalize:\n",
    "\t\t\tcm = cm.astype('float') / cm.sum(axis=1)[:, np.newaxis]\n",
    "\t\tthresh = cm.max() / 2.\n",
    "\t\tfor i, j in itertools.product(range(cm.shape[0]), range(cm.shape[1])):\n",
    "\t\t\tpyplot.text(j, i, cm[i, j],\n",
    "                 horizontalalignment=\"center\",\n",
    "                 color=\"white\" if cm[i, j] > thresh else \"black\")\n",
    "\t\tpyplot.tight_layout()\n",
    "\t\tpyplot.ylabel('True label')\n",
    "\t\tpyplot.xlabel('Predicted label')\n",
    "\n",
    " \n",
    "class_labels = ['1','2','3','4','5','6']\n",
    "trainX, trainY, testX, testY, validX, validY = load_dataset()\n",
    "trainX, testX, validX = prep_pixels(trainX, testX, validX)\n",
    "history, y_pred = evaluate_model(trainX, trainY, validX, validY, testX, testY)\n",
    "y_pred_classes = np.argmax(y_pred,axis = 1)\n",
    "testY_classes = np.argmax(testY,axis = 1) \n",
    "confmat = confusion_matrix(testY_classes, y_pred_classes)\n",
    "plot_metrics(history)\n",
    "print(classification_report(testY_classes, y_pred_classes, target_names = class_labels))\n",
    "plot_confusion_matrix(confmat, classes = class_labels)"
   ]
  },
  {
   "cell_type": "code",
   "execution_count": 7,
   "metadata": {},
   "outputs": [
    {
     "data": {
      "text/plain": [
       "array([[0., 1., 0., 0., 0., 0.],\n",
       "       [0., 0., 0., 0., 1., 0.],\n",
       "       [0., 1., 0., 0., 0., 0.],\n",
       "       ...,\n",
       "       [0., 0., 0., 0., 1., 0.],\n",
       "       [0., 1., 0., 0., 0., 0.],\n",
       "       [0., 0., 0., 0., 1., 0.]], dtype=float32)"
      ]
     },
     "execution_count": 7,
     "metadata": {},
     "output_type": "execute_result"
    }
   ],
   "source": [
    "trainY"
   ]
  },
  {
   "cell_type": "code",
   "execution_count": 22,
   "metadata": {},
   "outputs": [
    {
     "data": {
      "text/plain": [
       "array([[23,  0,  0,  0,  0,  0],\n",
       "       [ 0, 27,  0,  0,  0,  0],\n",
       "       [ 0,  0, 16,  0,  0,  0],\n",
       "       [ 0,  0,  0, 14,  0,  0],\n",
       "       [ 0,  0,  0,  0, 20,  0],\n",
       "       [ 0,  0,  0,  0,  0, 20]], dtype=int64)"
      ]
     },
     "execution_count": 22,
     "metadata": {},
     "output_type": "execute_result"
    }
   ],
   "source": [
    "testY_classes = np.argmax(testY,axis = 1)\n",
    "confusion_matrix(testY_classes,testY_classes)"
   ]
  },
  {
   "cell_type": "code",
   "execution_count": 23,
   "metadata": {},
   "outputs": [
    {
     "data": {
      "text/plain": [
       "array([[161,   0,   0,   0,   0,   0],\n",
       "       [  0, 154,   0,   0,   0,   0],\n",
       "       [  0,   0, 165,   0,   0,   0],\n",
       "       [  0,   0,   0, 166,   0,   0],\n",
       "       [  0,   0,   0,   0, 164,   0],\n",
       "       [  0,   0,   0,   0,   0, 162]], dtype=int64)"
      ]
     },
     "execution_count": 23,
     "metadata": {},
     "output_type": "execute_result"
    }
   ],
   "source": [
    "trainY_classes = np.argmax(trainY,axis = 1)\n",
    "confusion_matrix(trainY_classes,trainY_classes)"
   ]
  }
 ],
 "metadata": {
  "interpreter": {
   "hash": "6ae121be47c97c0c069510300ddf1208e01f00c5474901e36bb5238e92bd8a36"
  },
  "kernelspec": {
   "display_name": "Python 3.9.7 ('base')",
   "language": "python",
   "name": "python3"
  },
  "language_info": {
   "codemirror_mode": {
    "name": "ipython",
    "version": 3
   },
   "file_extension": ".py",
   "mimetype": "text/x-python",
   "name": "python",
   "nbconvert_exporter": "python",
   "pygments_lexer": "ipython3",
   "version": "3.9.7"
  },
  "orig_nbformat": 4
 },
 "nbformat": 4,
 "nbformat_minor": 2
}
